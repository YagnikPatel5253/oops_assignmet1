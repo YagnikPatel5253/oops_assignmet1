{
 "cells": [
  {
   "cell_type": "code",
   "execution_count": 5,
   "id": "fc5f6547-697b-4b7a-9aef-5bb57671fccc",
   "metadata": {},
   "outputs": [
    {
     "name": "stdout",
     "output_type": "stream",
     "text": [
      "Honey\n",
      "Honey speaks: Hello, world!\n",
      "Rocky\n",
      "Rocky speaks: Hello, world!\n"
     ]
    }
   ],
   "source": [
    "#Question 1\n",
    "#a class is like a blueprint for creating objects, while objects are the actual instances created from that blueprint\n",
    "#Example\n",
    "\n",
    "class Dog:\n",
    "    def __init__(self, name, age):\n",
    "        self.name = name\n",
    "        self.age = age\n",
    "        \n",
    "    def bark(self):\n",
    "        print(f\"{self.name} speaks: Hello, world!\")\n",
    "    \n",
    "\n",
    "dog1 = Dog(\"Honey\", 3)\n",
    "dog2 = Dog(\"Rocky\", 4)\n",
    "\n",
    "\n",
    "#Accessing object attributes and calling object methods\n",
    "print(dog1.name)\n",
    "dog1.bark()\n",
    "\n",
    "print(dog2.name)\n",
    "dog2.bark()"
   ]
  },
  {
   "cell_type": "code",
   "execution_count": 6,
   "id": "dae17ed7-73fa-4c54-a10f-be8c55fe1156",
   "metadata": {},
   "outputs": [],
   "source": [
    "#Question 2\n",
    "#1)Encapsulation\n",
    "#2)Inheritance\n",
    "#3)Polymorphism\n",
    "#4)Abstraction"
   ]
  },
  {
   "cell_type": "code",
   "execution_count": 11,
   "id": "5234ce16-7185-49ba-99fb-b63d5384479c",
   "metadata": {},
   "outputs": [],
   "source": [
    "#Question 3\n",
    "#__init__is used to initialize the attributes or properties of the object.\n",
    "class Person:\n",
    "    def __init__(self, name, age):\n",
    "        self.name = name\n",
    "        self.age = age\n",
    "    \n",
    "    def introduce(self):\n",
    "        print(f\"My name is {self.name} and I am {self.age} years old\")"
   ]
  },
  {
   "cell_type": "code",
   "execution_count": 13,
   "id": "6fbab2d8-2c68-4b9d-b118-289b7ff4950e",
   "metadata": {},
   "outputs": [
    {
     "name": "stdout",
     "output_type": "stream",
     "text": [
      "My name is Yagnik and I am 19 years old\n",
      "My name is Ishita and I am 19 years old\n"
     ]
    }
   ],
   "source": [
    "person1 = Person(\"Yagnik\", 19)\n",
    "person2 = Person(\"Ishita\", 19)\n",
    "\n",
    "person1.introduce()\n",
    "person2.introduce()"
   ]
  },
  {
   "cell_type": "code",
   "execution_count": 14,
   "id": "07a8de8c-8b99-4bf3-9ea9-57ce6899c794",
   "metadata": {},
   "outputs": [],
   "source": [
    "#Question 3\n",
    "#self is a reference to the current instance of a class in Python. \n",
    "#It is used within class methods to access and modify the object's attributes and invoke its methods."
   ]
  },
  {
   "cell_type": "code",
   "execution_count": 25,
   "id": "b3773713-81b9-4a42-81be-64639084d272",
   "metadata": {},
   "outputs": [
    {
     "name": "stdout",
     "output_type": "stream",
     "text": [
      "Dog barks.\n"
     ]
    }
   ],
   "source": [
    "#Question 4\n",
    "#Inheritance is a mechanism in object-oriented programming,\n",
    "#where a class can acquire the properties (attributes and methods) of another class.\n",
    "\n",
    "#Single Inheritance\n",
    "class Animal:\n",
    "    def food(self):\n",
    "        print(\"dog is eating the food\")\n",
    "\n",
    "class dog(Animal):\n",
    "    def sound(self):\n",
    "        print(\"Dog barks\")\n",
    "\n",
    "dog = Dog()\n",
    "dog.sound()  # Output: Dog barks."
   ]
  },
  {
   "cell_type": "code",
   "execution_count": 26,
   "id": "e8abcaa4-7350-44d9-8477-e7774effc454",
   "metadata": {},
   "outputs": [],
   "source": [
    "#Multiple Inheritance\n",
    "class student1:\n",
    "    def cool_student(self):\n",
    "        print(\"cool\")\n",
    "\n",
    "class student2:\n",
    "    def sad_student(self):\n",
    "        print(\"sad\")\n",
    "        \n",
    "class student3:\n",
    "    def mix(student1, student2):\n",
    "        pass"
   ]
  },
  {
   "cell_type": "code",
   "execution_count": 27,
   "id": "a4b55f1d-c93a-424c-8f0a-2ba7c572b5d8",
   "metadata": {},
   "outputs": [],
   "source": [
    "Student1 = student1()"
   ]
  },
  {
   "cell_type": "code",
   "execution_count": 29,
   "id": "ceb60e87-7a94-4209-bd49-8e9dce546954",
   "metadata": {},
   "outputs": [
    {
     "name": "stdout",
     "output_type": "stream",
     "text": [
      "cool\n"
     ]
    }
   ],
   "source": [
    "Student1.cool_student()"
   ]
  },
  {
   "cell_type": "code",
   "execution_count": 30,
   "id": "430d6783-9709-4cb6-a315-cc398d409148",
   "metadata": {},
   "outputs": [],
   "source": [
    "Student2 = student2()"
   ]
  },
  {
   "cell_type": "code",
   "execution_count": 32,
   "id": "c3026475-e2b6-4619-b364-10416212a870",
   "metadata": {},
   "outputs": [
    {
     "name": "stdout",
     "output_type": "stream",
     "text": [
      "sad\n"
     ]
    }
   ],
   "source": [
    "Student2.sad_student()"
   ]
  },
  {
   "cell_type": "code",
   "execution_count": 33,
   "id": "af97e514-c845-4990-bd6e-5acddc6bde78",
   "metadata": {},
   "outputs": [],
   "source": [
    "#Multilevel Inheritance\n",
    "\n",
    "class students_of_a1:\n",
    "    def a1(self):\n",
    "        print(\"This is the a1 students\")\n",
    "        \n",
    "class students_of_a2(students_of_a1):\n",
    "    def a2(self):\n",
    "        print(\"This is the a2 students\")\n",
    "\n",
    "class students_of_a3(students_of_a2):\n",
    "    def a3(self):\n",
    "        print(\"This is the a3 students\")"
   ]
  },
  {
   "cell_type": "code",
   "execution_count": 34,
   "id": "f0d8fb91-025b-45a8-9578-af43c692f2a8",
   "metadata": {},
   "outputs": [],
   "source": [
    "all_students = students_of_a3()"
   ]
  },
  {
   "cell_type": "code",
   "execution_count": 35,
   "id": "3553faf8-0521-4ba6-b87e-df178aff521a",
   "metadata": {},
   "outputs": [
    {
     "name": "stdout",
     "output_type": "stream",
     "text": [
      "This is the a1 students\n"
     ]
    }
   ],
   "source": [
    "all_students.a1()"
   ]
  },
  {
   "cell_type": "code",
   "execution_count": 36,
   "id": "50a663a9-4596-4e2f-8c75-9eab320dd176",
   "metadata": {},
   "outputs": [
    {
     "name": "stdout",
     "output_type": "stream",
     "text": [
      "This is the a2 students\n"
     ]
    }
   ],
   "source": [
    "all_students.a2()"
   ]
  },
  {
   "cell_type": "code",
   "execution_count": 37,
   "id": "a43f9e7c-f29d-4974-900d-731d2cb948b0",
   "metadata": {},
   "outputs": [
    {
     "name": "stdout",
     "output_type": "stream",
     "text": [
      "This is the a3 students\n"
     ]
    }
   ],
   "source": [
    "all_students.a3()"
   ]
  },
  {
   "cell_type": "code",
   "execution_count": null,
   "id": "832ab17b-a12a-4486-8e8c-20bf649b13a5",
   "metadata": {},
   "outputs": [],
   "source": []
  }
 ],
 "metadata": {
  "kernelspec": {
   "display_name": "Python 3 (ipykernel)",
   "language": "python",
   "name": "python3"
  },
  "language_info": {
   "codemirror_mode": {
    "name": "ipython",
    "version": 3
   },
   "file_extension": ".py",
   "mimetype": "text/x-python",
   "name": "python",
   "nbconvert_exporter": "python",
   "pygments_lexer": "ipython3",
   "version": "3.10.8"
  }
 },
 "nbformat": 4,
 "nbformat_minor": 5
}
